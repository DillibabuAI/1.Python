{
 "cells": [
  {
   "cell_type": "code",
   "execution_count": 1,
   "id": "86c2fa43-0069-4dbb-bf8d-5b8b6f4e4c38",
   "metadata": {},
   "outputs": [
    {
     "name": "stdout",
     "output_type": "stream",
     "text": [
      "HOPE AI\n"
     ]
    }
   ],
   "source": [
    "#print Statement\n",
    "print(\"HOPE AI\")"
   ]
  },
  {
   "cell_type": "code",
   "execution_count": 2,
   "id": "1658494d-2f22-4d73-bcfc-b3410a3da7ac",
   "metadata": {},
   "outputs": [
    {
     "name": "stdin",
     "output_type": "stream",
     "text": [
      "Enter your institute name? : HOPE AI\n"
     ]
    }
   ],
   "source": [
    "# Buy input\n",
    "instituteName = input(\"Enter your institute name? :\")"
   ]
  },
  {
   "cell_type": "code",
   "execution_count": 14,
   "id": "2afe1ff5-681e-4526-878e-e1966459ff34",
   "metadata": {},
   "outputs": [
    {
     "name": "stdin",
     "output_type": "stream",
     "text": [
      "Enter your name: Dillibabu\n",
      "Enter your age: 36\n",
      "Enter your school name: SIETK\n",
      "Enter your degree: MCA\n"
     ]
    },
    {
     "name": "stdout",
     "output_type": "stream",
     "text": [
      "Your name:  Dillibabu\n",
      "Your age:  36\n",
      "Your school name:  SIETK\n",
      "Your degree:  MCA\n"
     ]
    }
   ],
   "source": [
    "#Buy inputs\n",
    "name = input(\"Enter your name:\")\n",
    "age = int(input(\"Enter your age:\"))\n",
    "schoolName = input(\"Enter your school name:\")\n",
    "degree = input(\"Enter your degree:\")\n",
    "print(\"Your name: \", name)\n",
    "print(\"Your age: \", age)\n",
    "print(\"Your school name: \", schoolName)\n",
    "print(\"Your degree: \", degree)"
   ]
  },
  {
   "cell_type": "code",
   "execution_count": 6,
   "id": "8b409eb5-6f82-45ef-b7b2-e75777146704",
   "metadata": {},
   "outputs": [
    {
     "name": "stdin",
     "output_type": "stream",
     "text": [
      "a=  43\n",
      "b=  34\n"
     ]
    },
    {
     "name": "stdout",
     "output_type": "stream",
     "text": [
      "add =  77\n"
     ]
    }
   ],
   "source": [
    "#Addition\n",
    "a = int(input(\"a= \"))\n",
    "b = int(input(\"b= \"))\n",
    "print(\"add = \", a+b)"
   ]
  },
  {
   "cell_type": "code",
   "execution_count": 7,
   "id": "58a8c517-a2c6-4d3b-92dc-89f4270c726d",
   "metadata": {},
   "outputs": [
    {
     "name": "stdin",
     "output_type": "stream",
     "text": [
      "a=  43\n",
      "b=  34\n"
     ]
    },
    {
     "name": "stdout",
     "output_type": "stream",
     "text": [
      "sub =  9\n"
     ]
    }
   ],
   "source": [
    "#Subtraction\n",
    "a = int(input(\"a= \"))\n",
    "b = int(input(\"b= \"))\n",
    "print(\"sub = \", a-b)"
   ]
  },
  {
   "cell_type": "code",
   "execution_count": 8,
   "id": "4d604486-0831-4f87-b91d-edb84a48b792",
   "metadata": {},
   "outputs": [
    {
     "name": "stdin",
     "output_type": "stream",
     "text": [
      "a=  63\n",
      "b=  97\n"
     ]
    },
    {
     "name": "stdout",
     "output_type": "stream",
     "text": [
      "Mul =  6111\n"
     ]
    }
   ],
   "source": [
    "#Multiplication\n",
    "a = int(input(\"a= \"))\n",
    "b = int(input(\"b= \"))\n",
    "print(\"Mul = \", a*b)"
   ]
  },
  {
   "cell_type": "code",
   "execution_count": 9,
   "id": "49e443e8-07f9-4d10-9065-d0cdf09cc678",
   "metadata": {},
   "outputs": [
    {
     "name": "stdin",
     "output_type": "stream",
     "text": [
      "a=  76\n",
      "b=  31\n"
     ]
    },
    {
     "name": "stdout",
     "output_type": "stream",
     "text": [
      "Float Div =  2.4516129032258065\n"
     ]
    }
   ],
   "source": [
    "#Division\n",
    "a = int(input(\"a= \"))\n",
    "b = int(input(\"b= \"))\n",
    "print(\"Float Div = \", a/b)"
   ]
  },
  {
   "cell_type": "code",
   "execution_count": 10,
   "id": "a9f595d7-ee94-444a-bcda-c1f907fe24ee",
   "metadata": {},
   "outputs": [
    {
     "name": "stdin",
     "output_type": "stream",
     "text": [
      "a=  76\n",
      "b=  31\n"
     ]
    },
    {
     "name": "stdout",
     "output_type": "stream",
     "text": [
      "Floor Div =  2\n"
     ]
    }
   ],
   "source": [
    "#Floor division\n",
    "a = int(input(\"a= \"))\n",
    "b = int(input(\"b= \"))\n",
    "print(\"Floor Div = \", a//b)"
   ]
  },
  {
   "cell_type": "code",
   "execution_count": 11,
   "id": "7f5cae4a-2d46-44c3-ab66-0077b7656e43",
   "metadata": {},
   "outputs": [
    {
     "name": "stdin",
     "output_type": "stream",
     "text": [
      "a=  76\n",
      "b=  31\n"
     ]
    },
    {
     "name": "stdout",
     "output_type": "stream",
     "text": [
      "Modulo =  14\n"
     ]
    }
   ],
   "source": [
    "#Modulo\n",
    "a = int(input(\"a= \"))\n",
    "b = int(input(\"b= \"))\n",
    "print(\"Modulo = \", a%b)"
   ]
  },
  {
   "cell_type": "code",
   "execution_count": 12,
   "id": "d71667ee-6181-41d2-a208-b169807282fd",
   "metadata": {},
   "outputs": [
    {
     "name": "stdin",
     "output_type": "stream",
     "text": [
      "a=  4\n",
      "b=  4\n"
     ]
    },
    {
     "name": "stdout",
     "output_type": "stream",
     "text": [
      "Power =  256\n"
     ]
    }
   ],
   "source": [
    "#Power\n",
    "a = int(input(\"a= \"))\n",
    "b = int(input(\"b= \"))\n",
    "print(\"Power = \", pow(a,b))"
   ]
  },
  {
   "cell_type": "code",
   "execution_count": null,
   "id": "91d4b05f-417a-4875-a890-8722046325aa",
   "metadata": {},
   "outputs": [],
   "source": []
  }
 ],
 "metadata": {
  "kernelspec": {
   "display_name": "Python 3 (ipykernel)",
   "language": "python",
   "name": "python3"
  },
  "language_info": {
   "codemirror_mode": {
    "name": "ipython",
    "version": 3
   },
   "file_extension": ".py",
   "mimetype": "text/x-python",
   "name": "python",
   "nbconvert_exporter": "python",
   "pygments_lexer": "ipython3",
   "version": "3.12.7"
  }
 },
 "nbformat": 4,
 "nbformat_minor": 5
}
