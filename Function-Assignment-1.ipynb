{
 "cells": [
  {
   "cell_type": "code",
   "execution_count": 7,
   "id": "214beb02-699a-47d0-a965-73e3c576575e",
   "metadata": {},
   "outputs": [],
   "source": [
    "# Create a class and function, and list out the items in the list\n",
    "class SubfieldsInAI:\n",
    "    def Subfields():\n",
    "        items = ['Machine Learning','Neural Networks','Vision','Robotics','Speech Processing','Natural Language Processing']\n",
    "        print(\"Sub-fields in AI are:\")\n",
    "        for item in items:\n",
    "            print(item)"
   ]
  },
  {
   "cell_type": "code",
   "execution_count": 8,
   "id": "78627357-b4c8-4903-b8b3-4aeb01df97c8",
   "metadata": {},
   "outputs": [
    {
     "name": "stdout",
     "output_type": "stream",
     "text": [
      "Sub-fields in AI are:\n",
      "Machine Learning\n",
      "Neural Networks\n",
      "Vision\n",
      "Robotics\n",
      "Speech Processing\n",
      "Natural Language Processing\n"
     ]
    }
   ],
   "source": [
    "SubfieldsInAI.Subfields()"
   ]
  },
  {
   "cell_type": "code",
   "execution_count": 16,
   "id": "de5b7bc4-b311-4a9f-b314-ea1cf6a2e743",
   "metadata": {},
   "outputs": [],
   "source": [
    "# Create a function that checks whether the given number is Odd or Even\n",
    "class oddEven:\n",
    "    def oddEvenCheck():\n",
    "        number = int(input(\"Enter a number:\"))\n",
    "        if number%2 == 0:\n",
    "            print(str(number) + \" is Even Number\")\n",
    "        else:\n",
    "            print(str(number) + \" is Odd Number\")"
   ]
  },
  {
   "cell_type": "code",
   "execution_count": 17,
   "id": "4f64b6d1-aa5e-4423-a593-e98e5a372e6f",
   "metadata": {},
   "outputs": [
    {
     "name": "stdin",
     "output_type": "stream",
     "text": [
      "Enter a number: 52452\n"
     ]
    },
    {
     "name": "stdout",
     "output_type": "stream",
     "text": [
      "52452 is Even Number\n"
     ]
    }
   ],
   "source": [
    "oddEven.oddEvenCheck()"
   ]
  },
  {
   "cell_type": "code",
   "execution_count": 27,
   "id": "3d70df61-5661-4c31-979c-dc0f00326df8",
   "metadata": {},
   "outputs": [],
   "source": [
    "# Create a function that tells elegibility of marriage for male and female according to their age limit like 21 for male and 18 for female\n",
    "class ElegiblityForMarriage:\n",
    "    def Eligible():\n",
    "        Gender = input(\"Enter your Gender:\")\n",
    "        Age = int(input(\"Enter your Age:\"))\n",
    "        if ((Gender == \"Male\") and (Age < 21) or (Gender == \"Female\") and (Age < 18)):\n",
    "            status = \"NOT ELIGIBLE\"\n",
    "        else:\n",
    "            status = \"ELIGIBLE\"\n",
    "        print(\"Your Gender:\" + Gender)\n",
    "        print(\"Your Age:\" + str(Age))\n",
    "        print(status)"
   ]
  },
  {
   "cell_type": "code",
   "execution_count": 29,
   "id": "5847df3b-693e-4fe0-aab7-5238f8442ead",
   "metadata": {},
   "outputs": [
    {
     "name": "stdin",
     "output_type": "stream",
     "text": [
      "Enter your Gender: Male\n",
      "Enter your Age: 20\n"
     ]
    },
    {
     "name": "stdout",
     "output_type": "stream",
     "text": [
      "Your Gender:Male\n",
      "Your Age:20\n",
      "NOT ELIGIBLE\n"
     ]
    }
   ],
   "source": [
    "ElegiblityForMarriage.Eligible()"
   ]
  },
  {
   "cell_type": "code",
   "execution_count": 35,
   "id": "49afc8a2-dc1d-4cee-99f8-648d54ee0923",
   "metadata": {},
   "outputs": [],
   "source": [
    "# calculate the percentage of your 10th mark\n",
    "class FindPercent:\n",
    "    def percentage():\n",
    "        num1 = int(input(\"Enter your subject1 marks\"))\n",
    "        num2 = int(input(\"Enter your subject2 marks\"))\n",
    "        num3 = int(input(\"Enter your subject3 marks\"))\n",
    "        num4 = int(input(\"Enter your subject4 marks\"))\n",
    "        num5 = int(input(\"Enter your subject5 marks\"))\n",
    "        total = num1 + num2 + num3 + num4 + num5\n",
    "        percent = (total/500)*100\n",
    "        print(\"Subject1=\" + str(num1))\n",
    "        print(\"Subject2=\" + str(num2))\n",
    "        print(\"Subject3=\" + str(num3))\n",
    "        print(\"Subject4=\" + str(num4))\n",
    "        print(\"Subject5=\" + str(num5))\n",
    "        print(\"Total :\" + str(total))\n",
    "        print(\"Percentage: \" + str(percent))"
   ]
  },
  {
   "cell_type": "code",
   "execution_count": 36,
   "id": "41e51da9-dd0c-4cf8-9d58-ad59f5706b9e",
   "metadata": {},
   "outputs": [
    {
     "name": "stdin",
     "output_type": "stream",
     "text": [
      "Enter your subject1 marks 98\n",
      "Enter your subject2 marks 87\n",
      "Enter your subject3 marks 95\n",
      "Enter your subject4 marks 95\n",
      "Enter your subject5 marks 93\n"
     ]
    },
    {
     "name": "stdout",
     "output_type": "stream",
     "text": [
      "Subject1=98\n",
      "Subject2=87\n",
      "Subject3=95\n",
      "Subject4=95\n",
      "Subject5=93\n",
      "Total :468\n",
      "Percentage: 93.60000000000001\n"
     ]
    }
   ],
   "source": [
    "FindPercent.percentage()"
   ]
  },
  {
   "cell_type": "code",
   "execution_count": 38,
   "id": "27876952-015b-418a-a3dc-abee652a9e36",
   "metadata": {},
   "outputs": [],
   "source": [
    "#print area and perimeter of triangle using class and functions\n",
    "class triangle:\n",
    "    def triangle():\n",
    "        height = int(input(\"Enter the height:\"))\n",
    "        breadth = int(input(\"Enter the breadth:\"))\n",
    "        height1 = int(input(\"Enter the height1:\"))\n",
    "        height2 = int(input(\"Enter the height2:\"))\n",
    "        breadth1 = int(input(\"Enter the breadth1:\"))\n",
    "        area = (height*breadth)/2\n",
    "        perimeter = height1 + height2 + breadth1\n",
    "        print(\"Height : \" + str(height))\n",
    "        print(\"Breadth : \" + str(breadth))\n",
    "        print(\"Area of Triangle: \" + str(area))\n",
    "        print(\"Height1 : \" + str(height1))\n",
    "        print(\"Height2 : \" + str(height2))\n",
    "        print(\"Breadth1 : \" + str(breadth1))\n",
    "        print(\"Perimeter of Triangle: \" + str(perimeter))\n",
    "        \n",
    "        "
   ]
  },
  {
   "cell_type": "code",
   "execution_count": 39,
   "id": "2bf19e1c-95cb-4652-b7f3-d055f661aafb",
   "metadata": {},
   "outputs": [
    {
     "name": "stdin",
     "output_type": "stream",
     "text": [
      "Enter the height: 32\n",
      "Enter the breadth: 34\n",
      "Enter the height1: 2\n",
      "Enter the height2: 4\n",
      "Enter the breadth1: 4\n"
     ]
    },
    {
     "name": "stdout",
     "output_type": "stream",
     "text": [
      "Height : 32\n",
      "Breadth : 34\n",
      "Area of Triangle: 544.0\n",
      "Height1 : 2\n",
      "Height2 : 4\n",
      "Breadth1 : 4\n",
      "Perimeter of Triangle: 10\n"
     ]
    }
   ],
   "source": [
    "triangle.triangle()"
   ]
  },
  {
   "cell_type": "code",
   "execution_count": null,
   "id": "9436b02a-198d-4a1c-a899-81d2672575af",
   "metadata": {},
   "outputs": [],
   "source": []
  }
 ],
 "metadata": {
  "kernelspec": {
   "display_name": "Python 3 (ipykernel)",
   "language": "python",
   "name": "python3"
  },
  "language_info": {
   "codemirror_mode": {
    "name": "ipython",
    "version": 3
   },
   "file_extension": ".py",
   "mimetype": "text/x-python",
   "name": "python",
   "nbconvert_exporter": "python",
   "pygments_lexer": "ipython3",
   "version": "3.12.7"
  }
 },
 "nbformat": 4,
 "nbformat_minor": 5
}
