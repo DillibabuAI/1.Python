{
 "cells": [
  {
   "cell_type": "code",
   "execution_count": 1,
   "id": "a3fda7af-c39a-4907-a46b-9d0c15f52c8d",
   "metadata": {},
   "outputs": [],
   "source": [
    "from multiFunctions import multiFunctions"
   ]
  },
  {
   "cell_type": "code",
   "execution_count": 2,
   "id": "21f791dd-eea8-45f4-908e-564c2ee6aff3",
   "metadata": {},
   "outputs": [
    {
     "name": "stdout",
     "output_type": "stream",
     "text": [
      "Sub-fields in AI are:\n",
      "Machine Learning\n",
      "Neural Networks\n",
      "Vision\n",
      "Robotics\n",
      "Speech Processing\n",
      "Natural Language Processing\n"
     ]
    }
   ],
   "source": [
    "multiFunctions.Subfields()"
   ]
  },
  {
   "cell_type": "code",
   "execution_count": 3,
   "id": "add43b1f-fec8-4d3d-8ee3-5a2eb706211a",
   "metadata": {},
   "outputs": [
    {
     "name": "stdin",
     "output_type": "stream",
     "text": [
      "Enter a number: 52452\n"
     ]
    },
    {
     "name": "stdout",
     "output_type": "stream",
     "text": [
      "52452 is Even Number\n"
     ]
    }
   ],
   "source": [
    "multiFunctions.oddEvenCheck()"
   ]
  },
  {
   "cell_type": "code",
   "execution_count": 4,
   "id": "0386d294-ef07-4a01-9099-62a54c943ec6",
   "metadata": {},
   "outputs": [
    {
     "name": "stdin",
     "output_type": "stream",
     "text": [
      "Enter your Gender: Male\n",
      "Enter your Age: 20\n"
     ]
    },
    {
     "name": "stdout",
     "output_type": "stream",
     "text": [
      "Your Gender:Male\n",
      "Your Age:20\n",
      "NOT ELIGIBLE\n"
     ]
    }
   ],
   "source": [
    "multiFunctions.Eligible()"
   ]
  },
  {
   "cell_type": "code",
   "execution_count": 5,
   "id": "06bcd5ad-bc07-4d64-b501-ea698efb4bc4",
   "metadata": {},
   "outputs": [
    {
     "name": "stdin",
     "output_type": "stream",
     "text": [
      "Enter your subject1 marks 98\n",
      "Enter your subject2 marks 87\n",
      "Enter your subject3 marks 95\n",
      "Enter your subject4 marks 95\n",
      "Enter your subject5 marks 93\n"
     ]
    },
    {
     "name": "stdout",
     "output_type": "stream",
     "text": [
      "Subject1=98\n",
      "Subject2=87\n",
      "Subject3=95\n",
      "Subject4=95\n",
      "Subject5=93\n",
      "Total :468\n",
      "Percentage: 93.60000000000001\n"
     ]
    }
   ],
   "source": [
    "multiFunctions.percentage()"
   ]
  },
  {
   "cell_type": "code",
   "execution_count": 6,
   "id": "75df3673-ca79-4c66-9fd1-511204d286a7",
   "metadata": {},
   "outputs": [
    {
     "name": "stdin",
     "output_type": "stream",
     "text": [
      "Enter the height: 32\n",
      "Enter the breadth: 34\n",
      "Enter the height1: 2\n",
      "Enter the height2: 4\n",
      "Enter the breadth1: 4\n"
     ]
    },
    {
     "name": "stdout",
     "output_type": "stream",
     "text": [
      "Height : 32\n",
      "Breadth : 34\n",
      "Area of Triangle: 544.0\n",
      "Height1 : 2\n",
      "Height2 : 4\n",
      "Breadth1 : 4\n",
      "Perimeter of Triangle: 10\n"
     ]
    }
   ],
   "source": [
    "multiFunctions.triangle()"
   ]
  },
  {
   "cell_type": "code",
   "execution_count": 7,
   "id": "270ba024-cb2a-4ce4-8cda-19d2dc32537f",
   "metadata": {},
   "outputs": [
    {
     "name": "stdin",
     "output_type": "stream",
     "text": [
      "Enter the BMI Index: 27\n"
     ]
    },
    {
     "name": "stdout",
     "output_type": "stream",
     "text": [
      "Overweight\n"
     ]
    }
   ],
   "source": [
    "multiFunctions.BMI()"
   ]
  },
  {
   "cell_type": "code",
   "execution_count": null,
   "id": "00721876-d1e5-4eb0-89b8-feb7b1324e1b",
   "metadata": {},
   "outputs": [],
   "source": []
  }
 ],
 "metadata": {
  "kernelspec": {
   "display_name": "Python 3 (ipykernel)",
   "language": "python",
   "name": "python3"
  },
  "language_info": {
   "codemirror_mode": {
    "name": "ipython",
    "version": 3
   },
   "file_extension": ".py",
   "mimetype": "text/x-python",
   "name": "python",
   "nbconvert_exporter": "python",
   "pygments_lexer": "ipython3",
   "version": "3.12.7"
  }
 },
 "nbformat": 4,
 "nbformat_minor": 5
}
