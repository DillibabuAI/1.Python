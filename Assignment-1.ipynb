{
 "cells": [
  {
   "cell_type": "code",
   "execution_count": 1,
   "id": "1e4f408c-2583-4bb0-bae3-521fed591b79",
   "metadata": {},
   "outputs": [
    {
     "name": "stdout",
     "output_type": "stream",
     "text": [
      "Welcome to Assignment-1\n"
     ]
    }
   ],
   "source": [
    "print(\"Welcome to Assignment-1\")"
   ]
  },
  {
   "cell_type": "code",
   "execution_count": 3,
   "id": "82f67939-15f9-4b08-9721-187e0dd2dd01",
   "metadata": {},
   "outputs": [
    {
     "name": "stdin",
     "output_type": "stream",
     "text": [
      "Enter the Num1: 10\n",
      "Enter the Num2: 30\n"
     ]
    },
    {
     "name": "stdout",
     "output_type": "stream",
     "text": [
      "Total 40\n"
     ]
    }
   ],
   "source": [
    "Num1 = int(input(\"Enter the Num1:\"))\n",
    "Num2 = int(input(\"Enter the Num2:\"))\n",
    "Add = Num1 + Num2\n",
    "print(\"Total\", Add)"
   ]
  },
  {
   "cell_type": "code",
   "execution_count": 11,
   "id": "17a47c12-9734-4cb0-b3fb-73113674aeef",
   "metadata": {},
   "outputs": [
    {
     "name": "stdin",
     "output_type": "stream",
     "text": [
      "Enter the BMI Index: 27\n"
     ]
    },
    {
     "name": "stdout",
     "output_type": "stream",
     "text": [
      "Overweight\n"
     ]
    }
   ],
   "source": [
    "indexNumber = float(input(\"Enter the BMI Index:\"))\n",
    "if indexNumber < 18.5:\n",
    "    print(\"Underweight\")\n",
    "elif indexNumber <= 24.9:\n",
    "    print(\"Normal range\")\n",
    "elif indexNumber <= 29.9:\n",
    "    print(\"Overweight\")\n",
    "else:\n",
    "    print(\"Obese\")"
   ]
  },
  {
   "cell_type": "code",
   "execution_count": null,
   "id": "f84af2cb-1dfc-40a5-8b4d-abd50fc92ae0",
   "metadata": {},
   "outputs": [],
   "source": []
  }
 ],
 "metadata": {
  "kernelspec": {
   "display_name": "Python 3 (ipykernel)",
   "language": "python",
   "name": "python3"
  },
  "language_info": {
   "codemirror_mode": {
    "name": "ipython",
    "version": 3
   },
   "file_extension": ".py",
   "mimetype": "text/x-python",
   "name": "python",
   "nbconvert_exporter": "python",
   "pygments_lexer": "ipython3",
   "version": "3.12.7"
  }
 },
 "nbformat": 4,
 "nbformat_minor": 5
}
